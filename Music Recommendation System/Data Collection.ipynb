{
 "cells": [
  {
   "cell_type": "markdown",
   "id": "4fbfb1e2",
   "metadata": {},
   "source": [
    "# Data Collection"
   ]
  },
  {
   "cell_type": "markdown",
   "id": "a8d67f08",
   "metadata": {},
   "source": [
    "## Importing libraries"
   ]
  },
  {
   "cell_type": "code",
   "execution_count": 1,
   "id": "cc253e99",
   "metadata": {},
   "outputs": [],
   "source": [
    "import requests\n",
    "import base64\n",
    "from credentials import spotify_client_id, spotify_client_secret # stored my client ID and client secrect in credentials file.\n",
    "from tqdm import tqdm\n",
    "import pandas as pd\n",
    "import spotipy\n",
    "from spotipy.oauth2 import SpotifyOAuth\n",
    "import time"
   ]
  },
  {
   "cell_type": "markdown",
   "id": "2d6999dd",
   "metadata": {},
   "source": [
    "## Getting authorization token from spotify.\n",
    "1. Go to spotify developers website and create an app.\n",
    "2. Generate client ID and client secret.\n",
    "3. Using request library to send a post request to get the access token"
   ]
  },
  {
   "cell_type": "code",
   "execution_count": 2,
   "id": "45fc53df",
   "metadata": {},
   "outputs": [
    {
     "name": "stdout",
     "output_type": "stream",
     "text": [
      "Access token obtained successfully.\n"
     ]
    }
   ],
   "source": [
    "# Replace with your own Client ID and Client Secret\n",
    "CLIENT_ID = spotify_client_id\n",
    "CLIENT_SECRET = spotify_client_secret\n",
    "\n",
    "# Base64 encode the client ID and client secret\n",
    "client_credentials = f\"{CLIENT_ID}:{CLIENT_SECRET}\"\n",
    "client_credentials_base64 = base64.b64encode(client_credentials.encode())\n",
    "\n",
    "# Request the access token\n",
    "token_url = 'https://accounts.spotify.com/api/token'\n",
    "headers = {\n",
    "    'Authorization': f'Basic {client_credentials_base64.decode()}'\n",
    "}\n",
    "data = {\n",
    "    'grant_type': 'client_credentials'\n",
    "}\n",
    "response = requests.post(token_url, data=data, headers=headers)\n",
    "\n",
    "if response.status_code == 200:\n",
    "    access_token = response.json()['access_token']\n",
    "    print(\"Access token obtained successfully.\")\n",
    "else:\n",
    "    print(\"Error obtaining access token.\")\n",
    "    exit()"
   ]
  },
  {
   "cell_type": "code",
   "execution_count": 3,
   "id": "e91b293e",
   "metadata": {},
   "outputs": [],
   "source": [
    "def get_trending_playlist_data(playlist_id, access_token):\n",
    "    \"\"\"Takes playlist_id and access_token and returns music dataframe with information of the songs in playlist\"\"\"\n",
    "    # Set up Spotipy with the access token\n",
    "    sp = spotipy.Spotify(auth=access_token)\n",
    "\n",
    "    # Get the tracks from the playlist\n",
    "    playlist_tracks = sp.playlist_tracks(playlist_id, fields='items(track(id, name, artists, album(id, name)))')\n",
    "\n",
    "    # Extract relevant information and store in a list of dictionaries\n",
    "    music_data = []\n",
    "    for track_info in playlist_tracks['items']:\n",
    "        track = track_info['track']\n",
    "        track_name = track['name']\n",
    "        artists = ', '.join([artist['name'] for artist in track['artists']])\n",
    "        album_name = track['album']['name']\n",
    "        album_id = track['album']['id']\n",
    "        track_id = track['id']\n",
    "\n",
    "        # Get audio features for the track\n",
    "        audio_features = sp.audio_features(track_id)[0] if track_id != 'Not available' else None\n",
    "\n",
    "        # Get release date of the album\n",
    "        try:\n",
    "            album_info = sp.album(album_id) if album_id != 'Not available' else None\n",
    "            release_date = album_info['release_date'] if album_info else None\n",
    "        except:\n",
    "            release_date = None\n",
    "\n",
    "        # Get popularity of the track\n",
    "        try:\n",
    "            track_info = sp.track(track_id) if track_id != 'Not available' else None\n",
    "            popularity = track_info['popularity'] if track_info else None\n",
    "        except:\n",
    "            popularity = None\n",
    "\n",
    "        # Add additional track information to the track data\n",
    "        track_data = {\n",
    "            'Track Name': track_name,\n",
    "            'Artists': artists,\n",
    "            'Album Name': album_name,\n",
    "            'Album ID': album_id,\n",
    "            'Track ID': track_id,\n",
    "            'Popularity': popularity,\n",
    "            'Release Date': release_date,\n",
    "            'Duration (ms)': audio_features['duration_ms'] if audio_features else None,\n",
    "            'Explicit': track_info.get('explicit', None),\n",
    "            'External URLs': track_info.get('external_urls', {}).get('spotify', None),\n",
    "            'Danceability': audio_features['danceability'] if audio_features else None,\n",
    "            'Energy': audio_features['energy'] if audio_features else None,\n",
    "            'Key': audio_features['key'] if audio_features else None,\n",
    "            'Loudness': audio_features['loudness'] if audio_features else None,\n",
    "            'Mode': audio_features['mode'] if audio_features else None,\n",
    "            'Speechiness': audio_features['speechiness'] if audio_features else None,\n",
    "            'Acousticness': audio_features['acousticness'] if audio_features else None,\n",
    "            'Instrumentalness': audio_features['instrumentalness'] if audio_features else None,\n",
    "            'Liveness': audio_features['liveness'] if audio_features else None,\n",
    "            'Valence': audio_features['valence'] if audio_features else None,\n",
    "            'Tempo': audio_features['tempo'] if audio_features else None,\n",
    "        }\n",
    "\n",
    "        music_data.append(track_data)\n",
    "\n",
    "    # Create a pandas DataFrame from the list of dictionaries\n",
    "    df = pd.DataFrame(music_data)\n",
    "\n",
    "    return df"
   ]
  },
  {
   "cell_type": "code",
   "execution_count": 4,
   "id": "d2d8615d",
   "metadata": {},
   "outputs": [],
   "source": [
    "# List of playlists from spotify\n",
    "stash = \"63ZmJ7sbMDbxocch9W0Cll\"\n",
    "bolly = \"0ePwaivWKqORmpsGKvcid8\"\n",
    "hits = \"37i9dQZF1DX0XUfTFmNBRM\"\n",
    "topglobal = \"37i9dQZEVXbNG2KDcFcKOF\"\n",
    "topindia = \"37i9dQZEVXbMWDif5SCBJq\"\n",
    "playlists = [stash, bolly, hits, topglobal, topindia]"
   ]
  },
  {
   "cell_type": "markdown",
   "id": "fbbb26da",
   "metadata": {},
   "source": [
    "## Creating DataFrame of the songs"
   ]
  },
  {
   "cell_type": "code",
   "execution_count": 5,
   "id": "0da65029",
   "metadata": {},
   "outputs": [
    {
     "name": "stderr",
     "output_type": "stream",
     "text": [
      "100%|████████████████████████████████████████████████████████████████████████████████████| 5/5 [03:46<00:00, 45.36s/it]\n"
     ]
    }
   ],
   "source": [
    "df = pd.DataFrame()\n",
    "for playlist_id in tqdm(playlists):\n",
    "    music_df = get_trending_playlist_data(playlist_id, access_token)\n",
    "    df = pd.concat([df,music_df])"
   ]
  },
  {
   "cell_type": "code",
   "execution_count": 6,
   "id": "f363eaae",
   "metadata": {},
   "outputs": [
    {
     "data": {
      "text/plain": [
       "(335, 21)"
      ]
     },
     "execution_count": 6,
     "metadata": {},
     "output_type": "execute_result"
    }
   ],
   "source": [
    "df.shape"
   ]
  },
  {
   "cell_type": "code",
   "execution_count": 7,
   "id": "74fa641b",
   "metadata": {},
   "outputs": [
    {
     "data": {
      "text/plain": [
       "(313, 21)"
      ]
     },
     "execution_count": 7,
     "metadata": {},
     "output_type": "execute_result"
    }
   ],
   "source": [
    "# Droping duplicate songs\n",
    "df.drop_duplicates(inplace=True)\n",
    "df.shape"
   ]
  },
  {
   "cell_type": "markdown",
   "id": "adcb7f64",
   "metadata": {},
   "source": [
    "## Saving DataFrame in a csv."
   ]
  },
  {
   "cell_type": "code",
   "execution_count": 8,
   "id": "7dbd9b5c",
   "metadata": {},
   "outputs": [],
   "source": [
    "df.to_csv(\"music_dataset.csv\")"
   ]
  },
  {
   "cell_type": "markdown",
   "id": "f18c6b3f",
   "metadata": {},
   "source": [
    "## Adding additional playlists\n",
    "#### Adding \"this is artist\" playlists of various artists"
   ]
  },
  {
   "cell_type": "code",
   "execution_count": 4,
   "id": "2fd5f1ab",
   "metadata": {},
   "outputs": [],
   "source": [
    "adam_levine = \"37i9dQZF1DZ06evO2rXdlu\"\n",
    "alan_walker = \"37i9dQZF1DZ06evO4rvWRa\"\n",
    "araina_grande = \"37i9dQZF1DX1PfYnYcpw8w\"\n",
    "avicii = \"37i9dQZF1DZ06evO0PRpBu\"\n",
    "benny_blanco = \"37i9dQZF1DZ06evO3j6tfn\"\n",
    "beyonce = \"37i9dQZF1DX2oU49YwtXI2\"\n",
    "billie_eilish = \"37i9dQZF1DX6cg4h2PoN9y\"\n",
    "bruno_mars = \"37i9dQZF1DZ06evO03DwPK\"\n",
    "calvin_harris = \"37i9dQZF1DZ06evO4vD8f6\"\n",
    "camila_cabello = \"37i9dQZF1DZ06evO2yXXGB\"\n",
    "coldplay = \"37i9dQZF1DXaQm3ZVg9Z2X\"\n",
    "dj_snake = \"37i9dQZF1DZ06evO2YsPPW\"\n",
    "ed_sheeran = \"37i9dQZF1DWWxPM4nWdhyI\"\n",
    "hailee_steinfeld = \"37i9dQZF1DZ06evO3banUl\"\n",
    "halsey = \"37i9dQZF1DZ06evO1ciP4I\"\n",
    "imagine_dragons = \"37i9dQZF1DZ06evO2YqUuI\"\n",
    "justin_bieber =\"37i9dQZF1DXc2aPBXGmXrt\"\n",
    "kygo = \"37i9dQZF1DZ06evO1a5BFC\"\n",
    "linkin_park = \"37i9dQZF1DZ06evO47cwRq\"\n",
    "magic = \"37i9dQZF1DZ06evO0jjjFK\"\n",
    "maroon_5 = \"37i9dQZF1DZ06evNZY5NHq\"\n",
    "marshmellow = \"37i9dQZF1DZ06evO3Adu8w\"\n",
    "martin_garrix = \"37i9dQZF1DX94qaYRnkufr\"\n",
    "miley_cyrus = \"37i9dQZF1DZ06evO3wzrW0\"\n",
    "nirvana = \"37i9dQZF1DZ06evO3M0Fbi\"\n",
    "one_republic = \"37i9dQZF1DZ06evO3r3n5S\"\n",
    "rihanna = \"37i9dQZF1DZ06evO3by276\"\n",
    "shawn_mendes = \"37i9dQZF1DZ06evO4mwRSU\"\n",
    "taylor_swift = \"37i9dQZF1DX5KpP2LN299J\"\n",
    "twenty_one_pilots = \"37i9dQZF1DZ06evO2k3tf2\"\n",
    "the_weeknd = \"37i9dQZF1DX6bnzK9KPvrz\"\n",
    "zayn = \"37i9dQZF1DZ06evO3x2k4o\""
   ]
  },
  {
   "cell_type": "code",
   "execution_count": 5,
   "id": "63aba441",
   "metadata": {},
   "outputs": [],
   "source": [
    "playlist = [adam_levine, alan_walker, araina_grande, avicii, benny_blanco, beyonce, billie_eilish, bruno_mars, calvin_harris, \n",
    "           camila_cabello, coldplay, dj_snake, ed_sheeran, hailee_steinfeld, halsey, imagine_dragons, justin_bieber, kygo, \n",
    "           linkin_park, magic, maroon_5, marshmellow, martin_garrix, miley_cyrus, nirvana, one_republic, rihanna, shawn_mendes, \n",
    "           taylor_swift, twenty_one_pilots, the_weeknd, zayn]"
   ]
  },
  {
   "cell_type": "code",
   "execution_count": 6,
   "id": "640303a6",
   "metadata": {},
   "outputs": [
    {
     "name": "stderr",
     "output_type": "stream",
     "text": [
      "\r",
      "  0%|                                                                                           | 0/32 [00:00<?, ?it/s]"
     ]
    },
    {
     "name": "stdout",
     "output_type": "stream",
     "text": [
      "37i9dQZF1DZ06evO2rXdlu successful\n"
     ]
    },
    {
     "name": "stderr",
     "output_type": "stream",
     "text": [
      "\r",
      "  3%|██▌                                                                                | 1/32 [00:36<18:55, 36.61s/it]"
     ]
    },
    {
     "name": "stdout",
     "output_type": "stream",
     "text": [
      "37i9dQZF1DZ06evO4rvWRa successful\n"
     ]
    },
    {
     "name": "stderr",
     "output_type": "stream",
     "text": [
      "\r",
      "  6%|█████▏                                                                             | 2/32 [01:19<20:17, 40.58s/it]"
     ]
    },
    {
     "name": "stdout",
     "output_type": "stream",
     "text": [
      "37i9dQZF1DX1PfYnYcpw8w successful\n"
     ]
    },
    {
     "name": "stderr",
     "output_type": "stream",
     "text": [
      "\r",
      "  9%|███████▊                                                                           | 3/32 [02:20<24:04, 49.81s/it]"
     ]
    },
    {
     "name": "stdout",
     "output_type": "stream",
     "text": [
      "37i9dQZF1DZ06evO0PRpBu successful\n"
     ]
    },
    {
     "name": "stderr",
     "output_type": "stream",
     "text": [
      "\r",
      " 12%|██████████▍                                                                        | 4/32 [03:07<22:40, 48.60s/it]"
     ]
    },
    {
     "name": "stdout",
     "output_type": "stream",
     "text": [
      "37i9dQZF1DZ06evO3j6tfn successful\n"
     ]
    },
    {
     "name": "stderr",
     "output_type": "stream",
     "text": [
      "\r",
      " 16%|████████████▉                                                                      | 5/32 [03:36<18:43, 41.61s/it]"
     ]
    },
    {
     "name": "stdout",
     "output_type": "stream",
     "text": [
      "37i9dQZF1DX2oU49YwtXI2 successful\n"
     ]
    },
    {
     "name": "stderr",
     "output_type": "stream",
     "text": [
      "\r",
      " 19%|███████████████▌                                                                   | 6/32 [04:32<20:04, 46.32s/it]"
     ]
    },
    {
     "name": "stdout",
     "output_type": "stream",
     "text": [
      "37i9dQZF1DX6cg4h2PoN9y successful\n"
     ]
    },
    {
     "name": "stderr",
     "output_type": "stream",
     "text": [
      "\r",
      " 22%|██████████████████▏                                                                | 7/32 [05:21<19:42, 47.30s/it]"
     ]
    },
    {
     "name": "stdout",
     "output_type": "stream",
     "text": [
      "37i9dQZF1DZ06evO03DwPK successful\n"
     ]
    },
    {
     "name": "stderr",
     "output_type": "stream",
     "text": [
      "\r",
      " 25%|████████████████████▊                                                              | 8/32 [06:00<17:49, 44.55s/it]"
     ]
    },
    {
     "name": "stdout",
     "output_type": "stream",
     "text": [
      "37i9dQZF1DZ06evO4vD8f6 successful\n"
     ]
    },
    {
     "name": "stderr",
     "output_type": "stream",
     "text": [
      "\r",
      " 28%|███████████████████████▎                                                           | 9/32 [06:42<16:50, 43.93s/it]"
     ]
    },
    {
     "name": "stdout",
     "output_type": "stream",
     "text": [
      "37i9dQZF1DZ06evO2yXXGB successful\n"
     ]
    },
    {
     "name": "stderr",
     "output_type": "stream",
     "text": [
      "\r",
      " 31%|█████████████████████████▋                                                        | 10/32 [07:20<15:21, 41.90s/it]"
     ]
    },
    {
     "name": "stdout",
     "output_type": "stream",
     "text": [
      "37i9dQZF1DXaQm3ZVg9Z2X successful\n"
     ]
    },
    {
     "name": "stderr",
     "output_type": "stream",
     "text": [
      "\r",
      " 34%|████████████████████████████▏                                                     | 11/32 [08:00<14:29, 41.39s/it]"
     ]
    },
    {
     "name": "stdout",
     "output_type": "stream",
     "text": [
      "37i9dQZF1DZ06evO2YsPPW successful\n"
     ]
    },
    {
     "name": "stderr",
     "output_type": "stream",
     "text": [
      "\r",
      " 38%|██████████████████████████████▊                                                   | 12/32 [08:39<13:37, 40.86s/it]"
     ]
    },
    {
     "name": "stdout",
     "output_type": "stream",
     "text": [
      "37i9dQZF1DWWxPM4nWdhyI successful\n"
     ]
    },
    {
     "name": "stderr",
     "output_type": "stream",
     "text": [
      "\r",
      " 41%|█████████████████████████████████▎                                                | 13/32 [09:42<15:01, 47.44s/it]"
     ]
    },
    {
     "name": "stdout",
     "output_type": "stream",
     "text": [
      "37i9dQZF1DZ06evO3banUl successful\n"
     ]
    },
    {
     "name": "stderr",
     "output_type": "stream",
     "text": [
      "\r",
      " 44%|███████████████████████████████████▉                                              | 14/32 [10:12<12:36, 42.04s/it]"
     ]
    },
    {
     "name": "stdout",
     "output_type": "stream",
     "text": [
      "37i9dQZF1DZ06evO1ciP4I successful\n"
     ]
    },
    {
     "name": "stderr",
     "output_type": "stream",
     "text": [
      "\r",
      " 47%|██████████████████████████████████████▍                                           | 15/32 [10:52<11:45, 41.52s/it]"
     ]
    },
    {
     "name": "stdout",
     "output_type": "stream",
     "text": [
      "37i9dQZF1DZ06evO2YqUuI successful\n"
     ]
    },
    {
     "name": "stderr",
     "output_type": "stream",
     "text": [
      "\r",
      " 50%|█████████████████████████████████████████                                         | 16/32 [11:26<10:30, 39.42s/it]"
     ]
    },
    {
     "name": "stdout",
     "output_type": "stream",
     "text": [
      "37i9dQZF1DXc2aPBXGmXrt successful\n"
     ]
    },
    {
     "name": "stderr",
     "output_type": "stream",
     "text": [
      "\r",
      " 53%|███████████████████████████████████████████▌                                      | 17/32 [12:24<11:14, 44.98s/it]"
     ]
    },
    {
     "name": "stdout",
     "output_type": "stream",
     "text": [
      "37i9dQZF1DZ06evO1a5BFC successful\n"
     ]
    },
    {
     "name": "stderr",
     "output_type": "stream",
     "text": [
      "\r",
      " 56%|██████████████████████████████████████████████▏                                   | 18/32 [13:05<10:11, 43.70s/it]"
     ]
    },
    {
     "name": "stdout",
     "output_type": "stream",
     "text": [
      "37i9dQZF1DZ06evO47cwRq successful\n"
     ]
    },
    {
     "name": "stderr",
     "output_type": "stream",
     "text": [
      "\r",
      " 59%|████████████████████████████████████████████████▋                                 | 19/32 [13:45<09:13, 42.60s/it]"
     ]
    },
    {
     "name": "stdout",
     "output_type": "stream",
     "text": [
      "37i9dQZF1DZ06evO0jjjFK successful\n"
     ]
    },
    {
     "name": "stderr",
     "output_type": "stream",
     "text": [
      "\r",
      " 62%|███████████████████████████████████████████████████▎                              | 20/32 [14:15<07:44, 38.72s/it]"
     ]
    },
    {
     "name": "stdout",
     "output_type": "stream",
     "text": [
      "37i9dQZF1DZ06evNZY5NHq successful\n"
     ]
    },
    {
     "name": "stderr",
     "output_type": "stream",
     "text": [
      "\r",
      " 66%|█████████████████████████████████████████████████████▊                            | 21/32 [14:57<07:16, 39.67s/it]"
     ]
    },
    {
     "name": "stdout",
     "output_type": "stream",
     "text": [
      "37i9dQZF1DZ06evO3Adu8w successful\n"
     ]
    },
    {
     "name": "stderr",
     "output_type": "stream",
     "text": [
      "\r",
      " 69%|████████████████████████████████████████████████████████▍                         | 22/32 [15:40<06:48, 40.86s/it]"
     ]
    },
    {
     "name": "stdout",
     "output_type": "stream",
     "text": [
      "37i9dQZF1DX94qaYRnkufr successful\n"
     ]
    },
    {
     "name": "stderr",
     "output_type": "stream",
     "text": [
      "\r",
      " 72%|██████████████████████████████████████████████████████████▉                       | 23/32 [16:44<07:10, 47.81s/it]"
     ]
    },
    {
     "name": "stdout",
     "output_type": "stream",
     "text": [
      "37i9dQZF1DZ06evO3wzrW0 successful\n"
     ]
    },
    {
     "name": "stderr",
     "output_type": "stream",
     "text": [
      "\r",
      " 75%|█████████████████████████████████████████████████████████████▌                    | 24/32 [17:25<06:04, 45.56s/it]"
     ]
    },
    {
     "name": "stdout",
     "output_type": "stream",
     "text": [
      "37i9dQZF1DZ06evO3M0Fbi successful\n"
     ]
    },
    {
     "name": "stderr",
     "output_type": "stream",
     "text": [
      "\r",
      " 78%|████████████████████████████████████████████████████████████████                  | 25/32 [17:59<04:56, 42.29s/it]"
     ]
    },
    {
     "name": "stdout",
     "output_type": "stream",
     "text": [
      "37i9dQZF1DZ06evO3r3n5S successful\n"
     ]
    },
    {
     "name": "stderr",
     "output_type": "stream",
     "text": [
      "\r",
      " 81%|██████████████████████████████████████████████████████████████████▋               | 26/32 [18:41<04:12, 42.14s/it]"
     ]
    },
    {
     "name": "stdout",
     "output_type": "stream",
     "text": [
      "37i9dQZF1DZ06evO3by276 successful\n"
     ]
    },
    {
     "name": "stderr",
     "output_type": "stream",
     "text": [
      "\r",
      " 84%|█████████████████████████████████████████████████████████████████████▏            | 27/32 [19:20<03:26, 41.24s/it]"
     ]
    },
    {
     "name": "stdout",
     "output_type": "stream",
     "text": [
      "37i9dQZF1DZ06evO4mwRSU successful\n"
     ]
    },
    {
     "name": "stderr",
     "output_type": "stream",
     "text": [
      "\r",
      " 88%|███████████████████████████████████████████████████████████████████████▊          | 28/32 [20:03<02:47, 41.76s/it]"
     ]
    },
    {
     "name": "stdout",
     "output_type": "stream",
     "text": [
      "37i9dQZF1DX5KpP2LN299J successful\n"
     ]
    },
    {
     "name": "stderr",
     "output_type": "stream",
     "text": [
      "\r",
      " 91%|██████████████████████████████████████████████████████████████████████████▎       | 29/32 [21:13<02:30, 50.15s/it]"
     ]
    },
    {
     "name": "stdout",
     "output_type": "stream",
     "text": [
      "37i9dQZF1DZ06evO2k3tf2 successful\n"
     ]
    },
    {
     "name": "stderr",
     "output_type": "stream",
     "text": [
      "\r",
      " 94%|████████████████████████████████████████████████████████████████████████████▉     | 30/32 [21:45<01:29, 44.61s/it]"
     ]
    },
    {
     "name": "stdout",
     "output_type": "stream",
     "text": [
      "37i9dQZF1DX6bnzK9KPvrz successful\n"
     ]
    },
    {
     "name": "stderr",
     "output_type": "stream",
     "text": [
      "\r",
      " 97%|███████████████████████████████████████████████████████████████████████████████▍  | 31/32 [22:30<00:44, 44.84s/it]"
     ]
    },
    {
     "name": "stdout",
     "output_type": "stream",
     "text": [
      "37i9dQZF1DZ06evO3x2k4o successful\n"
     ]
    },
    {
     "name": "stderr",
     "output_type": "stream",
     "text": [
      "100%|██████████████████████████████████████████████████████████████████████████████████| 32/32 [23:01<00:00, 43.17s/it]\n"
     ]
    }
   ],
   "source": [
    "df_artists = pd.DataFrame()\n",
    "for playlist_id in tqdm(playlist):\n",
    "    try:\n",
    "        music_df = get_trending_playlist_data(playlist_id, access_token)\n",
    "        df_artists = pd.concat([df_artists,music_df])\n",
    "        print(f\"{playlist_id} successful\")\n",
    "        time.sleep(10)\n",
    "    except:\n",
    "        print(f\"{playlist_id} failed\")\n",
    "        pass"
   ]
  },
  {
   "cell_type": "code",
   "execution_count": 7,
   "id": "7becad30",
   "metadata": {},
   "outputs": [
    {
     "data": {
      "text/plain": [
       "(1669, 21)"
      ]
     },
     "execution_count": 7,
     "metadata": {},
     "output_type": "execute_result"
    }
   ],
   "source": [
    "df_artists.shape"
   ]
  },
  {
   "cell_type": "code",
   "execution_count": 8,
   "id": "b650b1e7",
   "metadata": {},
   "outputs": [
    {
     "data": {
      "text/plain": [
       "(1644, 21)"
      ]
     },
     "execution_count": 8,
     "metadata": {},
     "output_type": "execute_result"
    }
   ],
   "source": [
    "# Droping duplicate songs\n",
    "df_artists.drop_duplicates(inplace=True)\n",
    "df_artists.shape"
   ]
  },
  {
   "cell_type": "code",
   "execution_count": 9,
   "id": "c321adbe",
   "metadata": {},
   "outputs": [],
   "source": [
    "df_artists.to_csv(\"artist_music.csv\")"
   ]
  }
 ],
 "metadata": {
  "kernelspec": {
   "display_name": "Python 3 (ipykernel)",
   "language": "python",
   "name": "python3"
  },
  "language_info": {
   "codemirror_mode": {
    "name": "ipython",
    "version": 3
   },
   "file_extension": ".py",
   "mimetype": "text/x-python",
   "name": "python",
   "nbconvert_exporter": "python",
   "pygments_lexer": "ipython3",
   "version": "3.11.5"
  }
 },
 "nbformat": 4,
 "nbformat_minor": 5
}
